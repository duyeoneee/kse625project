{
 "cells": [
  {
   "cell_type": "markdown",
   "metadata": {},
   "source": [
    "## Extract restaurant id in Toronto"
   ]
  },
  {
   "cell_type": "code",
   "execution_count": 60,
   "metadata": {
    "collapsed": false
   },
   "outputs": [
    {
     "name": "stdout",
     "output_type": "stream",
     "text": [
      "8627\n",
      "8627\n"
     ]
    }
   ],
   "source": [
    "from utils.preprocess import JSONLoader\n",
    "fields = ['business_id','categories','city']\n",
    "# fields = None\n",
    "city = ['Toronto']\n",
    "categories_all =['Restaurants', 'Food', 'Sandwiches', 'Fast Food', 'American (Traditional)', 'Pizza',\n",
    "                 'Italian', 'Burgers', 'Mexican','Breakfast & Brunch', 'American (New)', 'Chinese', 'Specialty Food', 'Bakeries', 'Desserts',\n",
    "                 'Japanese', 'Ice Cream & Frozen Yogurt', 'Chicken Wings', 'Seafood', 'Salad', 'Sushi Bars',\n",
    "                 'Asian Fusion', 'Thai', 'Indian']\n",
    "\n",
    "business = 'business.json'\n",
    "data_dir = 'C:/Users/USer/social data mining/Project/dataset/'\n",
    "jl = JSONLoader(business, data_dir, fields = fields)\n",
    "jl.set_condition(city=city, categories=categories_all)\n",
    "f_b, all_restaurants = jl.sample(10000000)\n",
    "print(len(all_restaurants))\n",
    "all_rest_id = set([restaurant[0] for restaurant in all_restaurants])\n",
    "print(len(all_rest_id))"
   ]
  },
  {
   "cell_type": "code",
   "execution_count": 26,
   "metadata": {
    "collapsed": false
   },
   "outputs": [
    {
     "data": {
      "text/plain": [
       "312595"
      ]
     },
     "execution_count": 26,
     "metadata": {},
     "output_type": "execute_result"
    }
   ],
   "source": [
    "# Load the reviews\n",
    "review = 'review.json'\n",
    "data_dir = 'C:/Users/USer/social data mining/Project/dataset/'\n",
    "fields = ['business_id','text' ]\n",
    "jl = JSONLoader(review, data_dir, fields = fields)\n",
    "jl.set_condition(business_id = all_rest_id)\n",
    "\n",
    "f_, all_reviews = jl.sample(10000000)\n",
    "len(all_reviews)"
   ]
  },
  {
   "cell_type": "code",
   "execution_count": 72,
   "metadata": {
    "collapsed": false
   },
   "outputs": [
    {
     "data": {
      "text/plain": [
       "8627"
      ]
     },
     "execution_count": 72,
     "metadata": {},
     "output_type": "execute_result"
    }
   ],
   "source": [
    "# Extract revies by restaurant (list)\n",
    "\n",
    "from collections import defaultdict\n",
    "rv_by_rst = defaultdict(list)\n",
    "for id, rv in all_reviews:\n",
    "    rv_by_rst[id].append(rv)\n",
    "    \n",
    "rv_by_rst_list=[[id,rv] for id,rv in rv_by_rst.items()]\n",
    "len(rv_by_rst_list)"
   ]
  },
  {
   "cell_type": "code",
   "execution_count": 94,
   "metadata": {
    "collapsed": true
   },
   "outputs": [],
   "source": [
    "# To raise the accuracy, we have to consider plural.\n",
    "\n",
    "def toPlural(word):\n",
    "    if word.endswith('y'):\n",
    "        return word[:-1] + 'ies'\n",
    "    elif word[-1] in 'sx' or word[-2:] in ['sh', 'ch']:\n",
    "        return word + 'es'\n",
    "    elif word.endswith('an'):\n",
    "        return word[:-2] + 'en'\n",
    "    else:\n",
    "        return word + 's'"
   ]
  },
  {
   "cell_type": "code",
   "execution_count": 95,
   "metadata": {
    "collapsed": true
   },
   "outputs": [],
   "source": [
    "import re, string\n",
    "\n",
    "def eliminatePunctuation(text):\n",
    "    out = re.sub('[%s]' % re.escape(string.punctuation), '', text)\n",
    "    return out"
   ]
  },
  {
   "cell_type": "code",
   "execution_count": null,
   "metadata": {
    "collapsed": true
   },
   "outputs": [],
   "source": [
    "# For particular review texts\n",
    "from nltk.corpus import stopwords\n",
    "\n",
    "stopwords.words('english')\n",
    "stopwords = stopwords.words('english')\n",
    "\n",
    "categorized_review_texts = {}\n",
    "categorized_texts_processed = {}\n",
    "for category in categories:\n",
    "    categorized_review_texts[category] = [review[3] for review in categorized_reviews[category]]\n",
    "    categorized_texts_processed[category] = [[word for word in eliminatePunctuation(text_review).lower().split() if word not in stopwords] for text_review in categorized_review_texts[category]]"
   ]
  }
 ],
 "metadata": {
  "kernelspec": {
   "display_name": "Python 3",
   "language": "python",
   "name": "python3"
  },
  "language_info": {
   "codemirror_mode": {
    "name": "ipython",
    "version": 3
   },
   "file_extension": ".py",
   "mimetype": "text/x-python",
   "name": "python",
   "nbconvert_exporter": "python",
   "pygments_lexer": "ipython3",
   "version": "3.6.0"
  }
 },
 "nbformat": 4,
 "nbformat_minor": 2
}
