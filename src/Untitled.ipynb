{
 "cells": [
  {
   "cell_type": "code",
   "execution_count": null,
   "metadata": {
    "collapsed": true
   },
   "outputs": [],
   "source": [
    "class JSONLoader:\n",
    "    \n",
    "    def __init__(self, json_file, dir_data, fields = None):\n",
    "        self.home = os.path.expanduser('~')\n",
    "        self.dir_data = join(self.home, dir_data)\n",
    "        self.dir_json = join(self.dir_data, json_file)\n",
    "        self.fields = fields\n",
    "        \n",
    "    def sample(self, n_samples):\n",
    "        if not self.fields == None:\n",
    "            fields = set(self.fields)\n",
    "            data = []\n",
    "            with open(self.dir_json) as f:\n",
    "                for i, line in enumerate(f):\n",
    "                    if i >= n_samples:\n",
    "                        break\n",
    "                    json_line = json.loads(line)\n",
    "                    data.append([])\n",
    "                    for key, value in json_line.items():\n",
    "                        if key in fields:\n",
    "                            data[-1].append(value)\n",
    "        else:\n",
    "            data = []\n",
    "            with open(self.dir_json) as f:\n",
    "                for i, line in enumerate(f):\n",
    "                    if i >= n_samples:\n",
    "                        self.fields = list(json_line.keys())\n",
    "                        break\n",
    "                    json_line = json.loads(line)\n",
    "                    data.append([])\n",
    "                    for key, value in json_line.items():\n",
    "                        data[-1].append(value)\n",
    "        return self.fields, data"
   ]
  }
 ],
 "metadata": {
  "kernelspec": {
   "display_name": "Python 3",
   "language": "python",
   "name": "python3"
  },
  "language_info": {
   "codemirror_mode": {
    "name": "ipython",
    "version": 3
   },
   "file_extension": ".py",
   "mimetype": "text/x-python",
   "name": "python",
   "nbconvert_exporter": "python",
   "pygments_lexer": "ipython3",
   "version": "3.6.3"
  }
 },
 "nbformat": 4,
 "nbformat_minor": 2
}
