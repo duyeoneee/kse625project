{
 "cells": [
  {
   "cell_type": "markdown",
   "metadata": {},
   "source": [
    "# Query by seungki hong"
   ]
  },
  {
   "cell_type": "code",
   "execution_count": 22,
   "metadata": {
    "collapsed": true
   },
   "outputs": [],
   "source": [
    "sample_query_1 = 'I am finding a place to go with my girl friend'\n",
    "sample_query_2 = 'I want to eat mexican food'\n",
    "sample_query_3 = 'We want to have lovely dinner tonight'\n",
    "sample_query_4 = 'We go to lunch with my team members we often debate a lot we are so busy and tired'"
   ]
  },
  {
   "cell_type": "markdown",
   "metadata": {},
   "source": [
    "## First : Sentimental Matching\n",
    "\n",
    "## Second : Filtering with keyword"
   ]
  },
  {
   "cell_type": "markdown",
   "metadata": {},
   "source": [
    "## First : Sentimental Matching"
   ]
  },
  {
   "cell_type": "code",
   "execution_count": 1,
   "metadata": {
    "collapsed": true
   },
   "outputs": [],
   "source": [
    "import pandas as pd\n",
    "import pickle\n",
    " \n",
    "url = 'http://www.plosone.org/article/fetchSingleRepresentation.action?uri=info:doi/10.1371/journal.pone.0026752.s001'\n",
    "labmt = pd.read_csv(url, skiprows=2, sep='\\t', index_col=0)\n",
    "\n",
    "f = open('happiness.pkl', 'wb')\n",
    "pickle.dump(labmt, f)\n",
    "f.close()"
   ]
  },
  {
   "cell_type": "code",
   "execution_count": 2,
   "metadata": {
    "collapsed": true
   },
   "outputs": [],
   "source": [
    "f = open('happiness.pkl', 'rb')\n",
    "labmt = pickle.load(f)\n",
    "f.close()\n",
    "\n",
    "average = labmt.happiness_average.mean()\n",
    "happiness = (labmt.happiness_average - average).to_dict()\n",
    "\n",
    "def score(words):\n",
    "    return sum([happiness.get(word.lower(), 0.0) for word in words]) / len(words)"
   ]
  },
  {
   "cell_type": "code",
   "execution_count": 11,
   "metadata": {},
   "outputs": [],
   "source": [
    "def sentiment_scoring(query):\n",
    "    words = word_tokenize(query)\n",
    "    sentiment_score = score(words[:])\n",
    "    return sentiment_score"
   ]
  },
  {
   "cell_type": "code",
   "execution_count": 23,
   "metadata": {},
   "outputs": [
    {
     "name": "stdout",
     "output_type": "stream",
     "text": [
      "['I', 'am', 'finding', 'a', 'place', 'to', 'go', 'with', 'my', 'girl', 'friend']\n",
      "0.530214866331\n",
      "['I', 'want', 'to', 'eat', 'mexican', 'food']\n",
      "0.704760320877\n",
      "['We', 'want', 'to', 'have', 'lovely', 'dinner', 'tonight']\n",
      "0.873331749448\n",
      "['We', 'go', 'to', 'lunch', 'with', 'my', 'team', 'members', 'we', 'often', 'debate', 'a', 'lot', 'we', 'are', 'so', 'busy', 'and', 'tired']\n",
      "0.198444531403\n"
     ]
    }
   ],
   "source": [
    "import nltk\n",
    "import string\n",
    "import re\n",
    "from nltk.tokenize import word_tokenize\n",
    "\n",
    "sentiment_score = sentiment_scoring(sample_query_1)\n",
    "print (sentiment_score)\n",
    "\n",
    "sentiment_score = sentiment_scoring(sample_query_2)\n",
    "print (sentiment_score)\n",
    "\n",
    "sentiment_score = sentiment_scoring(sample_query_3)\n",
    "print (sentiment_score)\n",
    "\n",
    "sentiment_score = sentiment_scoring(sample_query_4)\n",
    "print (sentiment_score)"
   ]
  }
 ],
 "metadata": {
  "kernelspec": {
   "display_name": "Python 3",
   "language": "python",
   "name": "python3"
  },
  "language_info": {
   "codemirror_mode": {
    "name": "ipython",
    "version": 3
   },
   "file_extension": ".py",
   "mimetype": "text/x-python",
   "name": "python",
   "nbconvert_exporter": "python",
   "pygments_lexer": "ipython3",
   "version": "3.6.3"
  }
 },
 "nbformat": 4,
 "nbformat_minor": 2
}
