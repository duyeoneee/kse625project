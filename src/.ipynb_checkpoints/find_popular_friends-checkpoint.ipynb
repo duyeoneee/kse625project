{
 "cells": [
  {
   "cell_type": "code",
   "execution_count": 1,
   "metadata": {
    "collapsed": true
   },
   "outputs": [],
   "source": [
    "import pickle\n",
    "import os\n",
    "from os.path import join\n",
    "\n",
    "home = os.path.expanduser('~')\n",
    "pkl = join(home, 'data/friends_top100000.pkl')\n",
    "with open(pkl, 'rb') as f:\n",
    "    influential = pickle.load(f)"
   ]
  },
  {
   "cell_type": "code",
   "execution_count": 12,
   "metadata": {
    "collapsed": true
   },
   "outputs": [],
   "source": [
    "from utils.preprocess import JSONLoader\n",
    "user = 'user.json'\n",
    "data_dir = 'data/dataset'\n",
    "fields = ['user_id','friends']\n",
    "jl = JSONLoader(user, data_dir, fields)\n",
    "jl.set_condition(friends=influential)\n",
    "f_b, json_b = jl.sample(1000000)"
   ]
  },
  {
   "cell_type": "code",
   "execution_count": 3,
   "metadata": {
    "collapsed": true
   },
   "outputs": [],
   "source": [
    "def popular_friends(node, popular):\n",
    "    '''\n",
    "    Args:\n",
    "        node (list): the list that stores the id for the source node and the ids for all of its friends\n",
    "        popular (set): set of ids for popular users\n",
    "    '''\n",
    "    source = node[0]\n",
    "    popular_friends = [f for f in node[1] if f in popular]\n",
    "    \n",
    "    return popular_friends"
   ]
  },
  {
   "cell_type": "code",
   "execution_count": 13,
   "metadata": {
    "collapsed": true
   },
   "outputs": [],
   "source": [
    "popular_friend = dict([[node[0], popular_friends(node, influential)] for node in json_b])\n",
    "del json_b"
   ]
  },
  {
   "cell_type": "code",
   "execution_count": 16,
   "metadata": {},
   "outputs": [
    {
     "name": "stdout",
     "output_type": "stream",
     "text": [
      "366725\n"
     ]
    }
   ],
   "source": [
    "print(len(popular_friend))"
   ]
  },
  {
   "cell_type": "code",
   "execution_count": 17,
   "metadata": {},
   "outputs": [],
   "source": [
    "import pickle\n",
    "from os.path import join\n",
    "\n",
    "home = os.path.expanduser('~')\n",
    "pkl = join(home, 'data/popular_friend.pkl')\n",
    "with open(pkl, 'wb') as f:\n",
    "    pickle.dump(popular_friend, f)"
   ]
  }
 ],
 "metadata": {
  "kernelspec": {
   "display_name": "Python 3",
   "language": "python",
   "name": "python3"
  },
  "language_info": {
   "codemirror_mode": {
    "name": "ipython",
    "version": 3
   },
   "file_extension": ".py",
   "mimetype": "text/x-python",
   "name": "python",
   "nbconvert_exporter": "python",
   "pygments_lexer": "ipython3",
   "version": "3.6.3"
  }
 },
 "nbformat": 4,
 "nbformat_minor": 2
}
