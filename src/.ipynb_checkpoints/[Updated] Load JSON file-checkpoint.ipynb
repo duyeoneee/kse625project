{
 "cells": [
  {
   "cell_type": "markdown",
   "metadata": {},
   "source": [
    "# Unconditional sampling"
   ]
  },
  {
   "cell_type": "code",
   "execution_count": 1,
   "metadata": {
    "collapsed": true
   },
   "outputs": [],
   "source": [
    "from utils.preprocess import JSONLoader\n",
    "                        \n",
    "business = 'business.json'\n",
    "review = 'review.json'\n",
    "user = 'user.json'\n",
    "data_dir = 'data/dataset'\n",
    "\n",
    "# Sample 100 entries from each json files\n",
    "fields = ['business_id','stars']\n",
    "f_b, json_b = JSONLoader(business, data_dir, fields = fields).sample(100)\n",
    "f_r, json_r = JSONLoader(review, data_dir).sample(100)\n",
    "f_u, json_u = JSONLoader(user, data_dir).sample(100)"
   ]
  },
  {
   "cell_type": "code",
   "execution_count": 2,
   "metadata": {},
   "outputs": [
    {
     "data": {
      "text/plain": [
       "[['YDf95gJZaq05wvo7hTQbbQ', 2.0],\n",
       " ['mLwM-h2YhXl2NCgdS84_Bw', 4.5],\n",
       " ['v2WhjAB3PIBA8J8VxG3wEg', 4.5],\n",
       " ['CVtCbSB1zUcUWg-9TNGTuQ', 3.0],\n",
       " ['duHFBe87uNSXImQmvBh87Q', 4.5],\n",
       " ['uUEMrhJiL1a1pCA_I1SU7Q', 5.0],\n",
       " ['2eJEUJIP54tex7T9YOcLSw', 5.0],\n",
       " ['fEylCY3UEH8YJ0Xa7lu6lA', 2.5],\n",
       " ['kFtuYklkAIlmYw8RZAieGw', 5.0],\n",
       " ['NqiQdFa93wzUJGo29NbTPQ', 5.0],\n",
       " ['N9BN9ldVl1FNzcB9_eAstw', 4.5],\n",
       " ['6s3z3TlpHOIecuSyPEOp7A', 4.5],\n",
       " ['n33Izvzk_z9_51H6NsQF-A', 2.0],\n",
       " ['m06OZRFTaKKi6U0omfLq4g', 4.5],\n",
       " ['SDMRxmcKPNt1AHPBKqO64Q', 2.0],\n",
       " ['iFEiMJoEqyB9O8OUNSdLzA', 3.0],\n",
       " ['qrAHt4wWRYWj1sEjxq574A', 3.5],\n",
       " ['jqp5TibmgJZVFKHTp3XfqQ', 3.0],\n",
       " ['1cLXGXThDYZ5WK_KpBLtkw', 4.0],\n",
       " ['BmSJ6C7Y9s3tHotRetVbmA', 3.5],\n",
       " ['Av-ODv7-hV12If005Pj6wA', 3.0],\n",
       " ['HmI9nhgOkrXlUr6KZGZZew', 3.0],\n",
       " ['qnpvw-uQyRn9nlClWFK9aA', 2.5],\n",
       " ['igcy3ojJbgbpS8K70gvFQg', 5.0],\n",
       " ['5Ghe0btvM7tXqANnhNB5eg', 5.0],\n",
       " ['vvB8ebrUsjfNqwWjk4G4OQ', 4.0],\n",
       " ['l9ABoPi9j_pH9588tk0-6w', 4.0],\n",
       " ['eW9vw2fE_6EuTWErZRo3mQ', 4.0],\n",
       " ['ZFGYEsHFo6G4KtlTpYmMRQ', 3.5],\n",
       " ['ATsUb_sLzDSZkIoBdoO_mg', 3.5],\n",
       " ['-PtTGvWsckUL8tTutHr6Ew', 2.5],\n",
       " ['TXiEgINSZ75d3EtvLvkc4Q', 3.0],\n",
       " ['KW4y7uDGjVfU3ClkEjIGhg', 3.0],\n",
       " ['s_6WYPw3t50el2fSuh9k8w', 4.5],\n",
       " ['reWc1g65PNZnKz_Ub9QKOQ', 2.5],\n",
       " ['L1XHTn7S-6har9UGAPjcWQ', 4.0],\n",
       " ['PV9CdNFDOX4_zWm3Sy3W8g', 3.0],\n",
       " ['8E5l83iGubQmtivb24TL_Q', 3.0],\n",
       " ['qim0lD112TkDhm8ZyQlRnA', 4.0],\n",
       " ['xmY0pzNvZKEzuN0XEqeV5w', 4.5],\n",
       " ['aj1C0D7hniEPpsTidbCQIg', 5.0],\n",
       " ['9tIYh_c2Yynt2N65epRJ1w', 3.0],\n",
       " ['HRFJlSAP_EBU_MpPPmpUDQ', 2.5],\n",
       " ['5-7EItFT0a7SOlpjwE39_g', 2.5],\n",
       " ['kEq7eudoX5qdcaSLAq3axw', 3.0],\n",
       " ['UZShf6G75npKCCjiHsf46Q', 3.5],\n",
       " ['4irpCt5a5Sa72kIGyTmJ1Q', 3.5],\n",
       " ['KhPCS4OAr9po5hMtFhDvmg', 3.5],\n",
       " ['45arahaS6jTtYBw_STLDXg', 2.5],\n",
       " ['L2fkc0j8rkEXc1bMO8-uGQ', 4.5],\n",
       " ['FLTbKRmBytP1AbjWSPEeyw', 4.0],\n",
       " ['1AxEmgv8Dsr3iU9Aa40jPw', 4.0],\n",
       " ['LLNmo66wO1xoi-yma1HybA', 3.0],\n",
       " ['Wf5C8Amv_SlhoYE3_W66WQ', 2.0],\n",
       " ['58APdML-PG_OD4El2ePTvw', 4.0],\n",
       " ['Z1r6b30Tg0n0ME4-Zj2wQQ', 3.0],\n",
       " ['-2q4dnUw0gGJniGW2aPamQ', 2.0],\n",
       " ['6WMSw48PHoHboOG33R8OJw', 1.5],\n",
       " ['LDMCrFlGIFUN6L-FEFgzWg', 3.0],\n",
       " ['cBHMUESPj4SNs65Xv6xWRA', 4.0],\n",
       " ['uG4YxC4OA0bg6S_Yko2pMg', 1.5],\n",
       " ['EvX3LA7Wc1tv1S4qrendxQ', 4.5],\n",
       " ['g2FSpf4OTWcQauAOWjoL-g', 3.5],\n",
       " ['v86J4q6ATA2ANm1fc7yCNg', 3.5],\n",
       " ['QTH_XGh4rWYdd0fTW-tUDw', 3.5],\n",
       " ['ghDBE0fCjRfj7_fLoXnICw', 3.5],\n",
       " ['gqv6zoGHSeTsNKynhjI-Ng', 3.5],\n",
       " ['ynN2PeYIpufc_eSjE2Rtbg', 4.0],\n",
       " ['g-HSA1m2vFPjKHYnqiL6qA', 5.0],\n",
       " ['WKPnq7NYw4IV5IG2smpd1Q', 3.0],\n",
       " ['01xXe2m_z048W5gcBFpoJA', 3.5],\n",
       " ['dEmNOTm8Rmm9JYZdGX_Lhw', 4.0],\n",
       " ['3J75SkvgoLikY5Z4znmHjw', 4.0],\n",
       " ['efftalgKFDTs9itqHbVttg', 4.0],\n",
       " ['VoHZ4U8gvY33BxXtcsy5Rw', 3.5],\n",
       " ['fIWozPW-2wRknzsDqdgyjg', 5.0],\n",
       " ['UlDvngOADDhshzMKvrMsQw', 5.0],\n",
       " ['VrYc4SGCGXFxlNZNrwS39w', 4.5],\n",
       " ['SnlaPHqW3ksKfpH12pDGeg', 3.5],\n",
       " ['Bl7Y-ATTzXytQnCceg5k6w', 3.0],\n",
       " ['BvCHyg0GtxA6XKmRC0cQsg', 4.0],\n",
       " ['BwNZaPoqjHYK4RMqAxSeCw', 3.5],\n",
       " ['fl2TPNWrchkCbNEg0utjvw', 2.0],\n",
       " ['MKT77UstJ5PAWyLNTuWujQ', 3.0],\n",
       " ['CD_ExwWCwGjxWYagfDBnbw', 4.5],\n",
       " ['tzHbcCa6wMyNgQD0zqaQJA', 5.0],\n",
       " ['b5VIe-VnkOOwiwkjGw071A', 4.0],\n",
       " ['vfn-BKoMtOG6bf-QoU5b6Q', 2.0],\n",
       " ['9TfpnjAKFtP1u3C3eIFQ5Q', 4.5],\n",
       " ['IVtp8mznb2vRO0OcwBEQMw', 4.5],\n",
       " ['DiA78qPtp6rfRNdomzjBbw', 3.5],\n",
       " ['voF2F6emy4zrDAezPC6bkg', 5.0],\n",
       " ['SPdAkTJkQ_roC4dF4bvNpw', 4.5],\n",
       " ['25lVJgvthMyvoRz-W6splw', 2.0],\n",
       " ['ldwon-7FnBRRblX8RirnEg', 3.5],\n",
       " ['IxUKeZlUE-sGTQMKErvrJg', 4.0],\n",
       " ['GoVRPbvG9oLfNZ54v4nYbw', 3.5],\n",
       " ['z9lq1goS0IRqeIIUEZA4Pg', 4.5],\n",
       " ['d2fkRF67jiASrXxHfbmJuA', 2.5],\n",
       " ['weXoqWqLgzMOf5Yz-qiujw', 3.0]]"
      ]
     },
     "execution_count": 2,
     "metadata": {},
     "output_type": "execute_result"
    }
   ],
   "source": [
    "json_b"
   ]
  },
  {
   "cell_type": "markdown",
   "metadata": {},
   "source": [
    "# Conditional sampling"
   ]
  },
  {
   "cell_type": "code",
   "execution_count": 4,
   "metadata": {},
   "outputs": [
    {
     "name": "stdout",
     "output_type": "stream",
     "text": [
      "69\n",
      "{'city': {'Toronto'}, 'categories': {'Sandwiches', 'Food', 'Pizza', 'Burgers', 'Mexican', 'Fast Food', 'Thai', 'Japanese', 'Indian', 'Salad', 'American (New)', 'Breakfast & Brunch', 'Chinese', 'Specialty Food', 'Desserts', 'Ice Cream & Frozen Yogurt', 'Asian Fusion', 'American (Traditional)', 'Chicken Wings, Seafood', 'Restaurants', 'Bakeries', 'Sushi Bars', 'Italian'}}\n",
      "['business_id', 'city', 'stars', 'categories']\n"
     ]
    }
   ],
   "source": [
    "from utils.preprocess import JSONLoader\n",
    "fields = ['business_id','stars','city','categories']\n",
    "city = ['Toronto']\n",
    "categories =['Restaurants', 'Food', 'Sandwiches', 'Fast Food', 'American (Traditional)', 'Pizza',\n",
    "                 'Italian', 'Burgers', 'Mexican','Breakfast & Brunch', 'American (New)', 'Chinese', 'Specialty Food', 'Bakeries', 'Desserts',\n",
    "                 'Japanese', 'Ice Cream & Frozen Yogurt', 'Chicken Wings, Seafood', 'Salad', 'Sushi Bars',\n",
    "                 'Asian Fusion', 'Thai', 'Indian']\n",
    "\n",
    "business = 'business.json'\n",
    "data_dir = 'data/dataset'\n",
    "jl = JSONLoader(business, data_dir, fields = fields, encoding = 'utf-8')\n",
    "jl.set_condition(city=city, categories=categories)\n",
    "f_b, json_b = jl.sample(1000)\n",
    "print(len(json_b))\n",
    "print(jl.condition)\n",
    "print(jl.fields)"
   ]
  },
  {
   "cell_type": "code",
   "execution_count": 3,
   "metadata": {},
   "outputs": [
    {
     "name": "stdout",
     "output_type": "stream",
     "text": [
      "69\n",
      "{'city': {'Toronto'}, 'categories': {'Sandwiches', 'Food', 'Pizza', 'Burgers', 'Mexican', 'Fast Food', 'Thai', 'Japanese', 'Indian', 'Salad', 'American (New)', 'Breakfast & Brunch', 'Chinese', 'Specialty Food', 'Desserts', 'Ice Cream & Frozen Yogurt', 'Asian Fusion', 'American (Traditional)', 'Chicken Wings, Seafood', 'Restaurants', 'Bakeries', 'Sushi Bars', 'Italian'}}\n",
      "['business_id', 'stars', 'categories']\n"
     ]
    }
   ],
   "source": [
    "from utils.preprocess import JSONLoader\n",
    "fields = ['business_id','stars','categories']\n",
    "city = ['Toronto']\n",
    "categories =['Restaurants', 'Food', 'Sandwiches', 'Fast Food', 'American (Traditional)', 'Pizza',\n",
    "                 'Italian', 'Burgers', 'Mexican','Breakfast & Brunch', 'American (New)', 'Chinese', 'Specialty Food', 'Bakeries', 'Desserts',\n",
    "                 'Japanese', 'Ice Cream & Frozen Yogurt', 'Chicken Wings, Seafood', 'Salad', 'Sushi Bars',\n",
    "                 'Asian Fusion', 'Thai', 'Indian']\n",
    "\n",
    "business = 'business.json'\n",
    "data_dir = 'data/dataset'\n",
    "jl = JSONLoader(business, data_dir, fields = fields, encoding = 'utf-8')\n",
    "jl.set_condition(city=city, categories=categories)\n",
    "f_b, json_b = jl.sample(1000)\n",
    "print(len(json_b))\n",
    "print(jl.condition)\n",
    "print(jl.fields)"
   ]
  }
 ],
 "metadata": {
  "kernelspec": {
   "display_name": "Python 3",
   "language": "python",
   "name": "python3"
  },
  "language_info": {
   "codemirror_mode": {
    "name": "ipython",
    "version": 3
   },
   "file_extension": ".py",
   "mimetype": "text/x-python",
   "name": "python",
   "nbconvert_exporter": "python",
   "pygments_lexer": "ipython3",
   "version": "3.6.3"
  }
 },
 "nbformat": 4,
 "nbformat_minor": 2
}
