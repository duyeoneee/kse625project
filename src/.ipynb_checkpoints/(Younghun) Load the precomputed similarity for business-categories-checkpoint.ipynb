{
 "cells": [
  {
   "cell_type": "code",
   "execution_count": 1,
   "metadata": {
    "collapsed": true
   },
   "outputs": [],
   "source": [
    "import pickle\n",
    "\n",
    "categories =['Burgers','Seafood','Italian','Chinese','Japanese']\n",
    "sims = dict()\n",
    "for cat in categories:\n",
    "    with open('./data/cos_sim_%s' % cat, 'rb') as f:\n",
    "        sims[cat] = pickle.load(f)"
   ]
  },
  {
   "cell_type": "code",
   "execution_count": 2,
   "metadata": {},
   "outputs": [
    {
     "data": {
      "text/plain": [
       "[('zgQHtqX0gqMw1nlBZl2VnQ', 3.5928981),\n",
       " ('RtUvSWO_UZ8V3Wpj0n077w', 3.4973285),\n",
       " ('O1TvPrgkK2bUo5O5aSZ7lw', 3.467016),\n",
       " ('f5O7v_X_jCg2itqacRfxhg', 2.9844866),\n",
       " ('fGurvC5BdOfd5MIuLUQYVA', 2.9722822),\n",
       " ('BUcTdN-rNE8urCCQuxSOQA', 2.9080408),\n",
       " ('DE89UdHFMCN6DtYWZuer5A', 2.8275206),\n",
       " ('_xAJZOKBMPOe47p1MphB2w', 2.7320778),\n",
       " ('RwRNR4z3kY-4OsFqigY5sw', 2.4913545),\n",
       " ('OllK5_S-7svgSwbUfx1xYA', 2.4909453)]"
      ]
     },
     "execution_count": 2,
     "metadata": {},
     "output_type": "execute_result"
    }
   ],
   "source": [
    "sims['Chinese'][:10]"
   ]
  }
 ],
 "metadata": {
  "kernelspec": {
   "display_name": "Python 3",
   "language": "python",
   "name": "python3"
  },
  "language_info": {
   "codemirror_mode": {
    "name": "ipython",
    "version": 3
   },
   "file_extension": ".py",
   "mimetype": "text/x-python",
   "name": "python",
   "nbconvert_exporter": "python",
   "pygments_lexer": "ipython3",
   "version": "3.6.3"
  }
 },
 "nbformat": 4,
 "nbformat_minor": 2
}
