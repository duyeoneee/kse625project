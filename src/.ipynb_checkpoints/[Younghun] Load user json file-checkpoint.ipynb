{
 "cells": [
  {
   "cell_type": "code",
   "execution_count": 17,
   "metadata": {
    "collapsed": true
   },
   "outputs": [],
   "source": [
    "import os\n",
    "from os.path import join\n",
    "import json\n",
    "\n",
    "class JSONLoader:\n",
    "    \n",
    "    def __init__(self, json_file, dir_data, fields = None):\n",
    "        self.home = os.path.expanduser('~')\n",
    "        self.dir_data = join(self.home, dir_data)\n",
    "        self.dir_json = join(self.dir_data, json_file)\n",
    "        self.fields = fields\n",
    "        \n",
    "    def sample(self, n_samples):\n",
    "        if not self.fields == None:\n",
    "            fields = set(self.fields)\n",
    "            data = []\n",
    "            with open(self.dir_json) as f:\n",
    "                for i, line in enumerate(f):\n",
    "                    if i >= n_samples:\n",
    "                        break\n",
    "                    json_line = json.loads(line)\n",
    "                    data.append([])\n",
    "                    for key, value in json_line.items():\n",
    "                        if key in fields:\n",
    "                            data[-1].append(value)\n",
    "        else:\n",
    "            data = []\n",
    "            with open(self.dir_json) as f:\n",
    "                for i, line in enumerate(f):\n",
    "                    if i >= n_samples:\n",
    "                        self.fields = list(json_line.keys())\n",
    "                        break\n",
    "                    json_line = json.loads(line)\n",
    "                    data.append([])\n",
    "                    for key, value in json_line.items():\n",
    "                        data[-1].append(value)\n",
    "        return self.fields, data"
   ]
  },
  {
   "cell_type": "code",
   "execution_count": 18,
   "metadata": {},
   "outputs": [],
   "source": [
    "# from utils.preprocess import JSONLoader\n",
    "                        \n",
    "business = 'business.json'\n",
    "review = 'review.json'\n",
    "user = 'user.json'\n",
    "data_dir = 'data/dataset'\n",
    "\n",
    "# Sample 100 entries from each json files\n",
    "f_b, json_b = JSONLoader(business, data_dir, fields = ['business_id','stars']).sample(100)\n",
    "f_r, json_r = JSONLoader(review, data_dir).sample(100)\n",
    "f_u, json_u = JSONLoader(user, data_dir).sample(100)"
   ]
  },
  {
   "cell_type": "code",
   "execution_count": null,
   "metadata": {
    "collapsed": true
   },
   "outputs": [],
   "source": []
  }
 ],
 "metadata": {
  "kernelspec": {
   "display_name": "Python 3",
   "language": "python",
   "name": "python3"
  },
  "language_info": {
   "codemirror_mode": {
    "name": "ipython",
    "version": 3
   },
   "file_extension": ".py",
   "mimetype": "text/x-python",
   "name": "python",
   "nbconvert_exporter": "python",
   "pygments_lexer": "ipython3",
   "version": "3.6.3"
  }
 },
 "nbformat": 4,
 "nbformat_minor": 2
}
